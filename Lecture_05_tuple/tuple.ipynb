{
 "cells": [
  {
   "cell_type": "markdown",
   "metadata": {},
   "source": [
    "### Tuple \n",
    "\n",
    "Tuples are used to store multiple items in a single variable.\n",
    "\n",
    "A tuple is a collection which is ordered, unchangeable and allow duplicates.\n",
    "\n",
    "Tuples are written with round brackets.\n",
    "\n"
   ]
  },
  {
   "cell_type": "code",
   "execution_count": 1,
   "metadata": {},
   "outputs": [],
   "source": [
    "school=(\"Ali Bagh\",'LGC','City','F.G','Govt')"
   ]
  },
  {
   "cell_type": "markdown",
   "metadata": {},
   "source": [
    "#### Ordered\n",
    "When we say that tuples are ordered, it means that the items have a defined order, and that order will not change."
   ]
  },
  {
   "cell_type": "markdown",
   "metadata": {},
   "source": [
    "#### Unchangeable\n",
    "Tuples are unchangeable, meaning that we cannot change, add or remove items after the tuple has been created."
   ]
  },
  {
   "cell_type": "markdown",
   "metadata": {},
   "source": [
    "#### Allow Duplicates\n",
    "Since tuples are indexed, they can have items with the same value:"
   ]
  },
  {
   "cell_type": "code",
   "execution_count": 2,
   "metadata": {},
   "outputs": [
    {
     "name": "stdout",
     "output_type": "stream",
     "text": [
      "('Ali Bagh', 'LGC', 'City', 'F.G', 'Govt')\n"
     ]
    }
   ],
   "source": [
    "print(school)"
   ]
  },
  {
   "cell_type": "code",
   "execution_count": 7,
   "metadata": {},
   "outputs": [
    {
     "data": {
      "text/plain": [
       "'Ali Bagh'"
      ]
     },
     "execution_count": 7,
     "metadata": {},
     "output_type": "execute_result"
    }
   ],
   "source": [
    "# indexing\n",
    "school[0]"
   ]
  },
  {
   "cell_type": "code",
   "execution_count": 8,
   "metadata": {},
   "outputs": [
    {
     "data": {
      "text/plain": [
       "'LGC'"
      ]
     },
     "execution_count": 8,
     "metadata": {},
     "output_type": "execute_result"
    }
   ],
   "source": [
    "school[1]"
   ]
  },
  {
   "cell_type": "code",
   "execution_count": 9,
   "metadata": {},
   "outputs": [
    {
     "data": {
      "text/plain": [
       "5"
      ]
     },
     "execution_count": 9,
     "metadata": {},
     "output_type": "execute_result"
    }
   ],
   "source": [
    "# length function\n",
    "len(school)"
   ]
  },
  {
   "cell_type": "code",
   "execution_count": 10,
   "metadata": {},
   "outputs": [
    {
     "data": {
      "text/plain": [
       "tuple"
      ]
     },
     "execution_count": 10,
     "metadata": {},
     "output_type": "execute_result"
    }
   ],
   "source": [
    "# type function\n",
    "type(school)"
   ]
  },
  {
   "cell_type": "code",
   "execution_count": 12,
   "metadata": {},
   "outputs": [
    {
     "data": {
      "text/plain": [
       "('Ali Bagh', 'LGC', 'City')"
      ]
     },
     "execution_count": 12,
     "metadata": {},
     "output_type": "execute_result"
    }
   ],
   "source": [
    "# slicing\n",
    "school[0:3]"
   ]
  },
  {
   "cell_type": "code",
   "execution_count": 17,
   "metadata": {},
   "outputs": [
    {
     "name": "stdout",
     "output_type": "stream",
     "text": [
      "('Ali Bagh', 'LGC', 'City')\n",
      "('LGC', 'City', 'F.G')\n",
      "('Ali Bagh', 'LGC', 'City')\n",
      "('City', 'F.G', 'Govt')\n",
      "('Ali Bagh', 'LGC', 'City', 'F.G', 'Govt')\n",
      "Govt\n",
      "F.G\n",
      "('City', 'F.G')\n",
      "('City', 'F.G', 'Govt')\n",
      "('Ali Bagh', 'LGC', 'City', 'F.G')\n",
      "('Ali Bagh', 'LGC', 'City')\n"
     ]
    }
   ],
   "source": [
    "# access tuple elements\n",
    "print(school[0:3])\n",
    "print(school[1:4])\n",
    "print(school[:3])\n",
    "print(school[2:])\n",
    "print(school[:])    \n",
    "print(school[-1])\n",
    "print(school[-2])\n",
    "print(school[-3:-1])\n",
    "print(school[-3:])\n",
    "print(school[:-1])\n",
    "print(school[:-2])"
   ]
  },
  {
   "cell_type": "code",
   "execution_count": 14,
   "metadata": {},
   "outputs": [],
   "source": [
    "mix=(\"English\",\"Urdu\",\"Maths\",\"Physics\",\"Chemistry\", 1,2,3,True)"
   ]
  },
  {
   "cell_type": "code",
   "execution_count": 16,
   "metadata": {},
   "outputs": [
    {
     "name": "stdout",
     "output_type": "stream",
     "text": [
      "('English', 'Urdu', 'Maths', 'Physics', 'Chemistry', 1, 2, 3, True)\n"
     ]
    }
   ],
   "source": [
    "# tuple constructor\n",
    "mix1=tuple((\"English\",\"Urdu\",\"Maths\",\"Physics\",\"Chemistry\", 1,2,3,True))\n",
    "print(mix1)"
   ]
  },
  {
   "cell_type": "code",
   "execution_count": 18,
   "metadata": {},
   "outputs": [
    {
     "name": "stdout",
     "output_type": "stream",
     "text": [
      "4 is not present in the tuple\n"
     ]
    }
   ],
   "source": [
    "if 4 in mix:\n",
    "    print(\"4 is present in the tuple\")\n",
    "else:\n",
    "    print(\"4 is not present in the tuple\")"
   ]
  },
  {
   "cell_type": "code",
   "execution_count": 19,
   "metadata": {},
   "outputs": [
    {
     "name": "stdout",
     "output_type": "stream",
     "text": [
      "<class 'tuple'>\n"
     ]
    }
   ],
   "source": [
    "name =(\"Ali\",)\n",
    "print(type(name))"
   ]
  },
  {
   "cell_type": "code",
   "execution_count": 2,
   "metadata": {},
   "outputs": [
    {
     "name": "stdout",
     "output_type": "stream",
     "text": [
      "('English', 'Computer', 'Maths', 'Physics', 'Chemistry', 1, 2, 3, True)\n"
     ]
    }
   ],
   "source": [
    "# change tuple values\n",
    "# tuples are immutable\n",
    "# so we cannot change the values of tuple\n",
    "# but we can convert it to list and then change the values\n",
    "# and convert it back to tuple\n",
    "# Example\n",
    "x=(\"English\",\"Urdu\",\"Maths\",\"Physics\",\"Chemistry\", 1,2,3,True)\n",
    "y=list(x)\n",
    "y[1]=\"Computer\"\n",
    "x=tuple(y)\n",
    "print(x)"
   ]
  },
  {
   "cell_type": "code",
   "execution_count": 3,
   "metadata": {},
   "outputs": [
    {
     "data": {
      "text/plain": [
       "list"
      ]
     },
     "execution_count": 3,
     "metadata": {},
     "output_type": "execute_result"
    }
   ],
   "source": [
    "x=(\"English\",\"Urdu\",\"Maths\",\"Physics\",\"Chemistry\")\n",
    "y=list(x)\n",
    "type(x)\n",
    "type(y)"
   ]
  },
  {
   "cell_type": "code",
   "execution_count": 3,
   "metadata": {},
   "outputs": [
    {
     "name": "stdout",
     "output_type": "stream",
     "text": [
      "('English', 'Urdu', 'Maths', 'Physics', 'Chemistry', 'Computer')\n"
     ]
    }
   ],
   "source": [
    "# add items\n",
    "x=(\"English\",\"Urdu\",\"Maths\",\"Physics\",\"Chemistry\")\n",
    "y=list(x)\n",
    "y.append(\"Computer\")\n",
    "x=tuple(y)\n",
    "print(x)"
   ]
  },
  {
   "cell_type": "code",
   "execution_count": 4,
   "metadata": {},
   "outputs": [
    {
     "name": "stdout",
     "output_type": "stream",
     "text": [
      "('English', 'Urdu', 'Physics', 'Chemistry')\n"
     ]
    }
   ],
   "source": [
    "#remove items\n",
    "x=(\"English\",\"Urdu\",\"Maths\",\"Physics\",\"Chemistry\")\n",
    "y=list(x)\n",
    "y.remove(\"Maths\")\n",
    "x=tuple(y)\n",
    "print(x)"
   ]
  },
  {
   "cell_type": "code",
   "execution_count": 5,
   "metadata": {},
   "outputs": [
    {
     "name": "stdout",
     "output_type": "stream",
     "text": [
      "('English', 'Urdu', 'Computer', 'Maths', 'Physics', 'Chemistry')\n"
     ]
    }
   ],
   "source": [
    "# insert items\n",
    "x=(\"English\",\"Urdu\",\"Maths\",\"Physics\",\"Chemistry\")\n",
    "y=list(x)\n",
    "y.insert(2,\"Computer\")\n",
    "x=tuple(y)\n",
    "print(x)"
   ]
  },
  {
   "cell_type": "code",
   "execution_count": 6,
   "metadata": {},
   "outputs": [
    {
     "name": "stdout",
     "output_type": "stream",
     "text": [
      "('English', 'Urdu', 'Maths', 'Physics', 'Chemistry', 'Computer', 'Biology')\n"
     ]
    }
   ],
   "source": [
    "# add tuple to tuple\n",
    "x=(\"English\",\"Urdu\",\"Maths\",\"Physics\",\"Chemistry\")\n",
    "y=(\"Computer\",\"Biology\")\n",
    "z=x+y\n",
    "print(z)"
   ]
  },
  {
   "cell_type": "code",
   "execution_count": 7,
   "metadata": {},
   "outputs": [
    {
     "name": "stdout",
     "output_type": "stream",
     "text": [
      "<class 'tuple'>\n"
     ]
    }
   ],
   "source": [
    "print(type(z))"
   ]
  },
  {
   "cell_type": "code",
   "execution_count": 8,
   "metadata": {},
   "outputs": [
    {
     "ename": "NameError",
     "evalue": "name 'x' is not defined",
     "output_type": "error",
     "traceback": [
      "\u001b[0;31m---------------------------------------------------------------------------\u001b[0m",
      "\u001b[0;31mNameError\u001b[0m                                 Traceback (most recent call last)",
      "Cell \u001b[0;32mIn[8], line 2\u001b[0m\n\u001b[1;32m      1\u001b[0m \u001b[38;5;28;01mdel\u001b[39;00m x\n\u001b[0;32m----> 2\u001b[0m \u001b[38;5;28mprint\u001b[39m(\u001b[43mx\u001b[49m)\n",
      "\u001b[0;31mNameError\u001b[0m: name 'x' is not defined"
     ]
    }
   ],
   "source": [
    "del x\n",
    "print(x)"
   ]
  },
  {
   "cell_type": "code",
   "execution_count": 9,
   "metadata": {},
   "outputs": [
    {
     "name": "stdout",
     "output_type": "stream",
     "text": [
      "English\n",
      "Urdu\n",
      "Maths\n",
      "Physics\n",
      "Chemistry\n"
     ]
    }
   ],
   "source": [
    "# unpacking tuple\n",
    "x=(\"English\",\"Urdu\",\"Maths\",\"Physics\",\"Chemistry\")\n",
    "a,b,c,d,e=x\n",
    "print(a)\n",
    "print(b)\n",
    "print(c)\n",
    "print(d)\n",
    "print(e)"
   ]
  },
  {
   "cell_type": "code",
   "execution_count": 10,
   "metadata": {},
   "outputs": [
    {
     "name": "stdout",
     "output_type": "stream",
     "text": [
      "Biryani\n",
      "Karahi\n",
      "Nihari\n",
      "Korma\n",
      "Pulao\n"
     ]
    }
   ],
   "source": [
    "# loop through tuple\n",
    "dish=(\"Biryani\",\"Karahi\",\"Nihari\",\"Korma\",\"Pulao\")\n",
    "for i in dish:\n",
    "    print(i)"
   ]
  },
  {
   "cell_type": "code",
   "execution_count": 11,
   "metadata": {},
   "outputs": [
    {
     "name": "stdout",
     "output_type": "stream",
     "text": [
      "Biryani\n",
      "Karahi\n",
      "Nihari\n",
      "Korma\n",
      "Pulao\n"
     ]
    }
   ],
   "source": [
    "# Loop through tuple using index\n",
    "dish=(\"Biryani\",\"Karahi\",\"Nihari\",\"Korma\",\"Pulao\")\n",
    "for i in range(len(dish)):\n",
    "    print(dish[i])\n",
    "    "
   ]
  },
  {
   "cell_type": "code",
   "execution_count": 13,
   "metadata": {},
   "outputs": [
    {
     "data": {
      "text/plain": [
       "range(0, 5)"
      ]
     },
     "execution_count": 13,
     "metadata": {},
     "output_type": "execute_result"
    }
   ],
   "source": [
    "range(len(dish))"
   ]
  },
  {
   "cell_type": "code",
   "execution_count": null,
   "metadata": {},
   "outputs": [
    {
     "name": "stdout",
     "output_type": "stream",
     "text": [
      "(1, 2, 3, 4, 5, 1, 2, 3, 4, 5)\n"
     ]
    }
   ],
   "source": [
    "# multiply tuple\n",
    "x=(1,2,3,4,5)\n",
    "tuplle=x*2\n",
    "print(tuplle)"
   ]
  },
  {
   "cell_type": "code",
   "execution_count": null,
   "metadata": {},
   "outputs": [
    {
     "name": "stdout",
     "output_type": "stream",
     "text": [
      "1\n",
      "1\n"
     ]
    }
   ],
   "source": [
    "# tuple methods\n",
    "# count() method\n",
    "x=(\"English\",\"Urdu\",\"Maths\",\"Physics\",\"Chemistry\")\n",
    "print(x.count(\"English\"))\n",
    "print(x.count(\"Maths\"))"
   ]
  },
  {
   "cell_type": "code",
   "execution_count": 16,
   "metadata": {},
   "outputs": [
    {
     "data": {
      "text/plain": [
       "2"
      ]
     },
     "execution_count": 16,
     "metadata": {},
     "output_type": "execute_result"
    }
   ],
   "source": [
    "tuplle.count(1)"
   ]
  },
  {
   "cell_type": "code",
   "execution_count": 17,
   "metadata": {},
   "outputs": [
    {
     "name": "stdout",
     "output_type": "stream",
     "text": [
      "0\n"
     ]
    }
   ],
   "source": [
    "# index() method\n",
    "x=(\"English\",\"Urdu\",\"Maths\",\"Physics\",\"Chemistry\")\n",
    "print(x.index(\"English\"))"
   ]
  },
  {
   "cell_type": "code",
   "execution_count": 19,
   "metadata": {},
   "outputs": [
    {
     "data": {
      "text/plain": [
       "1"
      ]
     },
     "execution_count": 19,
     "metadata": {},
     "output_type": "execute_result"
    }
   ],
   "source": [
    "tuplle.index(2)"
   ]
  },
  {
   "cell_type": "code",
   "execution_count": 2,
   "metadata": {},
   "outputs": [
    {
     "name": "stdout",
     "output_type": "stream",
     "text": [
      "0\n",
      "1\n",
      "2\n",
      "3\n",
      "4\n"
     ]
    }
   ],
   "source": [
    "dish=(\"Biryani\",\"Karahi\",\"Nihari\",\"Korma\",\"Pulao\")\n",
    "for i in range(len(dish)):\n",
    "    print(i)"
   ]
  },
  {
   "cell_type": "code",
   "execution_count": 3,
   "metadata": {},
   "outputs": [
    {
     "name": "stdout",
     "output_type": "stream",
     "text": [
      "Biryani\n",
      "Karahi\n",
      "Nihari\n",
      "Korma\n",
      "Pulao\n"
     ]
    }
   ],
   "source": [
    "for i in range(len(dish)):\n",
    "    print(dish[i])"
   ]
  },
  {
   "cell_type": "code",
   "execution_count": 4,
   "metadata": {},
   "outputs": [
    {
     "name": "stdout",
     "output_type": "stream",
     "text": [
      "English\n",
      "Urdu\n",
      "Maths\n",
      "Physics\n",
      "Chemistry\n"
     ]
    }
   ],
   "source": [
    "tup=(\"English\",\"Urdu\",\"Maths\",\"Physics\",\"Chemistry\")\n",
    "for i in tup:\n",
    "    print(i)"
   ]
  },
  {
   "cell_type": "code",
   "execution_count": 6,
   "metadata": {},
   "outputs": [
    {
     "data": {
      "text/plain": [
       "range(0, 5)"
      ]
     },
     "execution_count": 6,
     "metadata": {},
     "output_type": "execute_result"
    }
   ],
   "source": [
    "range(len(tup))"
   ]
  },
  {
   "cell_type": "code",
   "execution_count": 7,
   "metadata": {},
   "outputs": [
    {
     "name": "stdout",
     "output_type": "stream",
     "text": [
      "English\n",
      "Urdu\n",
      "Maths\n",
      "Physics\n",
      "Chemistry\n"
     ]
    }
   ],
   "source": [
    "for i in range(len(tup)):\n",
    "    print(tup[i])"
   ]
  },
  {
   "cell_type": "code",
   "execution_count": null,
   "metadata": {},
   "outputs": [],
   "source": []
  }
 ],
 "metadata": {
  "kernelspec": {
   "display_name": "my_env",
   "language": "python",
   "name": "python3"
  },
  "language_info": {
   "codemirror_mode": {
    "name": "ipython",
    "version": 3
   },
   "file_extension": ".py",
   "mimetype": "text/x-python",
   "name": "python",
   "nbconvert_exporter": "python",
   "pygments_lexer": "ipython3",
   "version": "3.11.4"
  }
 },
 "nbformat": 4,
 "nbformat_minor": 2
}
